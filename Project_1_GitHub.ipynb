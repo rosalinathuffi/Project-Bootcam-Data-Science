{
 "cells": [
  {
   "cell_type": "raw",
   "id": "efbdbf1a-efc0-4859-a45e-3452ca12d736",
   "metadata": {},
   "source": [
    "Assigment Day-16-Rosalina Thuffi"
   ]
  },
  {
   "cell_type": "code",
   "execution_count": 2,
   "id": "9c460c51-1b7d-41e4-80f3-9ac1497c8e20",
   "metadata": {},
   "outputs": [],
   "source": [
    "import numpy as np\n",
    "import pandas as pd\n",
    "import seaborn as sns\n",
    "import matplotlib.pyplot as plt"
   ]
  },
  {
   "cell_type": "code",
   "execution_count": 3,
   "id": "46507598-5c99-4b75-8dd8-3f8162668389",
   "metadata": {},
   "outputs": [
    {
     "data": {
      "text/html": [
       "<div>\n",
       "<style scoped>\n",
       "    .dataframe tbody tr th:only-of-type {\n",
       "        vertical-align: middle;\n",
       "    }\n",
       "\n",
       "    .dataframe tbody tr th {\n",
       "        vertical-align: top;\n",
       "    }\n",
       "\n",
       "    .dataframe thead th {\n",
       "        text-align: right;\n",
       "    }\n",
       "</style>\n",
       "<table border=\"1\" class=\"dataframe\">\n",
       "  <thead>\n",
       "    <tr style=\"text-align: right;\">\n",
       "      <th></th>\n",
       "      <th>crim</th>\n",
       "      <th>zn</th>\n",
       "      <th>indus</th>\n",
       "      <th>chas</th>\n",
       "      <th>nox</th>\n",
       "      <th>rm</th>\n",
       "      <th>age</th>\n",
       "      <th>dis</th>\n",
       "      <th>rad</th>\n",
       "      <th>tax</th>\n",
       "      <th>ptratio</th>\n",
       "      <th>black</th>\n",
       "      <th>lstat</th>\n",
       "      <th>medv</th>\n",
       "    </tr>\n",
       "  </thead>\n",
       "  <tbody>\n",
       "    <tr>\n",
       "      <th>0</th>\n",
       "      <td>0.00632</td>\n",
       "      <td>18.0</td>\n",
       "      <td>2.31</td>\n",
       "      <td>0</td>\n",
       "      <td>0.538</td>\n",
       "      <td>6.575</td>\n",
       "      <td>65.2</td>\n",
       "      <td>4.0900</td>\n",
       "      <td>1</td>\n",
       "      <td>296</td>\n",
       "      <td>15.3</td>\n",
       "      <td>396.90</td>\n",
       "      <td>4.98</td>\n",
       "      <td>24.0</td>\n",
       "    </tr>\n",
       "    <tr>\n",
       "      <th>1</th>\n",
       "      <td>0.02731</td>\n",
       "      <td>0.0</td>\n",
       "      <td>7.07</td>\n",
       "      <td>0</td>\n",
       "      <td>0.469</td>\n",
       "      <td>6.421</td>\n",
       "      <td>78.9</td>\n",
       "      <td>4.9671</td>\n",
       "      <td>2</td>\n",
       "      <td>242</td>\n",
       "      <td>17.8</td>\n",
       "      <td>396.90</td>\n",
       "      <td>9.14</td>\n",
       "      <td>21.6</td>\n",
       "    </tr>\n",
       "    <tr>\n",
       "      <th>2</th>\n",
       "      <td>0.02729</td>\n",
       "      <td>0.0</td>\n",
       "      <td>7.07</td>\n",
       "      <td>0</td>\n",
       "      <td>0.469</td>\n",
       "      <td>7.185</td>\n",
       "      <td>61.1</td>\n",
       "      <td>4.9671</td>\n",
       "      <td>2</td>\n",
       "      <td>242</td>\n",
       "      <td>17.8</td>\n",
       "      <td>392.83</td>\n",
       "      <td>4.03</td>\n",
       "      <td>34.7</td>\n",
       "    </tr>\n",
       "    <tr>\n",
       "      <th>3</th>\n",
       "      <td>0.03237</td>\n",
       "      <td>0.0</td>\n",
       "      <td>2.18</td>\n",
       "      <td>0</td>\n",
       "      <td>0.458</td>\n",
       "      <td>6.998</td>\n",
       "      <td>45.8</td>\n",
       "      <td>6.0622</td>\n",
       "      <td>3</td>\n",
       "      <td>222</td>\n",
       "      <td>18.7</td>\n",
       "      <td>394.63</td>\n",
       "      <td>2.94</td>\n",
       "      <td>33.4</td>\n",
       "    </tr>\n",
       "    <tr>\n",
       "      <th>4</th>\n",
       "      <td>0.06905</td>\n",
       "      <td>0.0</td>\n",
       "      <td>2.18</td>\n",
       "      <td>0</td>\n",
       "      <td>0.458</td>\n",
       "      <td>7.147</td>\n",
       "      <td>54.2</td>\n",
       "      <td>6.0622</td>\n",
       "      <td>3</td>\n",
       "      <td>222</td>\n",
       "      <td>18.7</td>\n",
       "      <td>396.90</td>\n",
       "      <td>5.33</td>\n",
       "      <td>36.2</td>\n",
       "    </tr>\n",
       "  </tbody>\n",
       "</table>\n",
       "</div>"
      ],
      "text/plain": [
       "      crim    zn  indus  chas    nox     rm   age     dis  rad  tax  ptratio  \\\n",
       "0  0.00632  18.0   2.31     0  0.538  6.575  65.2  4.0900    1  296     15.3   \n",
       "1  0.02731   0.0   7.07     0  0.469  6.421  78.9  4.9671    2  242     17.8   \n",
       "2  0.02729   0.0   7.07     0  0.469  7.185  61.1  4.9671    2  242     17.8   \n",
       "3  0.03237   0.0   2.18     0  0.458  6.998  45.8  6.0622    3  222     18.7   \n",
       "4  0.06905   0.0   2.18     0  0.458  7.147  54.2  6.0622    3  222     18.7   \n",
       "\n",
       "    black  lstat  medv  \n",
       "0  396.90   4.98  24.0  \n",
       "1  396.90   9.14  21.6  \n",
       "2  392.83   4.03  34.7  \n",
       "3  394.63   2.94  33.4  \n",
       "4  396.90   5.33  36.2  "
      ]
     },
     "execution_count": 3,
     "metadata": {},
     "output_type": "execute_result"
    }
   ],
   "source": [
    "#load data\n",
    "data=pd.read_csv('boston.csv')\n",
    "data.head()"
   ]
  },
  {
   "cell_type": "raw",
   "id": "846e4acb-1b12-459f-bfb3-732e4604d9eb",
   "metadata": {},
   "source": [
    "Target prediksi: to predict the price of the house (medv)"
   ]
  },
  {
   "cell_type": "code",
   "execution_count": 4,
   "id": "61281c88-a45f-4ae7-9d27-d011eec7510d",
   "metadata": {},
   "outputs": [
    {
     "data": {
      "text/plain": [
       "crim       0\n",
       "zn         0\n",
       "indus      0\n",
       "chas       0\n",
       "nox        0\n",
       "rm         0\n",
       "age        0\n",
       "dis        0\n",
       "rad        0\n",
       "tax        0\n",
       "ptratio    0\n",
       "black      0\n",
       "lstat      0\n",
       "medv       0\n",
       "dtype: int64"
      ]
     },
     "execution_count": 4,
     "metadata": {},
     "output_type": "execute_result"
    }
   ],
   "source": [
    "data.isnull().sum()"
   ]
  },
  {
   "cell_type": "code",
   "execution_count": 5,
   "id": "a4133cda-c06d-4929-8dc8-3b9038d28e5d",
   "metadata": {},
   "outputs": [
    {
     "name": "stderr",
     "output_type": "stream",
     "text": [
      "C:\\Users\\user\\anaconda3\\lib\\site-packages\\seaborn\\_decorators.py:36: FutureWarning: Pass the following variable as a keyword arg: x. From version 0.12, the only valid positional argument will be `data`, and passing other arguments without an explicit keyword will result in an error or misinterpretation.\n",
      "  warnings.warn(\n"
     ]
    },
    {
     "data": {
      "image/png": "[encoded data removed]",
      "text/plain": [
       "<Figure size 842.4x595.44 with 1 Axes>"
      ]
     },
     "metadata": {},
     "output_type": "display_data"
    }
   ],
   "source": [
    "sns.set(rc={'figure.figsize':(11.7,8.27)})\n",
    "sns.boxplot(data['medv'])\n",
    "plt.show()"
   ]
  },
  {
   "cell_type": "raw",
   "id": "ce209a21-f670-44db-b308-ced0ada44a24",
   "metadata": {},
   "source": [
    "There are some outlier on the medv"
   ]
  },
  {
   "cell_type": "code",
   "execution_count": 6,
   "id": "f38edd3c-18ee-468c-b21c-1f38a020ed38",
   "metadata": {},
   "outputs": [
    {
     "name": "stdout",
     "output_type": "stream",
     "text": [
      "Old data: (506, 14)\n",
      "New Shape: (466, 14)\n"
     ]
    }
   ],
   "source": [
    "#Remove the outlier from the data\n",
    "\n",
    "Q1=np.percentile(data['medv'],25,interpolation='midpoint')\n",
    "Q3=np.percentile(data['medv'],75,interpolation='midpoint')\n",
    "IQR=Q3-Q1\n",
    "\n",
    "print(\"Old data:\",data.shape)\n",
    "\n",
    "upper=np.where(data['medv']>=(Q3+1.5*IQR))\n",
    "lower=np.where(data['medv']<=(Q1-1.5*IQR))\n",
    "\n",
    "data.drop(upper[0],inplace=True)\n",
    "data.drop(lower[0],inplace=True)\n",
    "\n",
    "print(\"New Shape:\",data.shape)"
   ]
  },
  {
   "cell_type": "code",
   "execution_count": 7,
   "id": "b7023771-3cf2-41d0-b2e5-54f655c42776",
   "metadata": {},
   "outputs": [],
   "source": [
    "#split train test\n",
    "from sklearn.model_selection import train_test_split\n",
    "\n",
    "feature = data.drop(columns='medv')\n",
    "target = data[['medv']]\n",
    "\n",
    "feature_data_pretrain, feature_data_test, target_data_pretrain, target_data_test = train_test_split(feature, target, test_size=0.20, random_state=42)\n",
    "\n",
    "feature_data_train, feature_data_validation, target_data_train, target_data_validation = train_test_split(feature_data_pretrain, target_data_pretrain, test_size=0.20, random_state=42)"
   ]
  },
  {
   "cell_type": "code",
   "execution_count": 95,
   "id": "f9eb6a81-5d13-41ed-ae0d-c323c5a8cad0",
   "metadata": {},
   "outputs": [
    {
     "name": "stderr",
     "output_type": "stream",
     "text": [
      "C:\\Users\\user\\anaconda3\\lib\\site-packages\\statsmodels\\tsa\\tsatools.py:142: FutureWarning: In a future version of pandas all arguments of concat except for the argument 'objs' will be keyword-only\n",
      "  x = pd.concat(x[::order], 1)\n"
     ]
    },
    {
     "data": {
      "text/html": [
       "<div>\n",
       "<style scoped>\n",
       "    .dataframe tbody tr th:only-of-type {\n",
       "        vertical-align: middle;\n",
       "    }\n",
       "\n",
       "    .dataframe tbody tr th {\n",
       "        vertical-align: top;\n",
       "    }\n",
       "\n",
       "    .dataframe thead th {\n",
       "        text-align: right;\n",
       "    }\n",
       "</style>\n",
       "<table border=\"1\" class=\"dataframe\">\n",
       "  <thead>\n",
       "    <tr style=\"text-align: right;\">\n",
       "      <th></th>\n",
       "      <th>feature</th>\n",
       "      <th>vif_score</th>\n",
       "    </tr>\n",
       "  </thead>\n",
       "  <tbody>\n",
       "    <tr>\n",
       "      <th>1</th>\n",
       "      <td>crim</td>\n",
       "      <td>2.311119</td>\n",
       "    </tr>\n",
       "    <tr>\n",
       "      <th>2</th>\n",
       "      <td>zn</td>\n",
       "      <td>2.292413</td>\n",
       "    </tr>\n",
       "    <tr>\n",
       "      <th>3</th>\n",
       "      <td>indus</td>\n",
       "      <td>4.187875</td>\n",
       "    </tr>\n",
       "    <tr>\n",
       "      <th>4</th>\n",
       "      <td>chas</td>\n",
       "      <td>1.057250</td>\n",
       "    </tr>\n",
       "    <tr>\n",
       "      <th>5</th>\n",
       "      <td>nox</td>\n",
       "      <td>4.450553</td>\n",
       "    </tr>\n",
       "    <tr>\n",
       "      <th>6</th>\n",
       "      <td>rm</td>\n",
       "      <td>1.932500</td>\n",
       "    </tr>\n",
       "    <tr>\n",
       "      <th>7</th>\n",
       "      <td>age</td>\n",
       "      <td>2.858506</td>\n",
       "    </tr>\n",
       "    <tr>\n",
       "      <th>8</th>\n",
       "      <td>dis</td>\n",
       "      <td>4.042662</td>\n",
       "    </tr>\n",
       "    <tr>\n",
       "      <th>9</th>\n",
       "      <td>rad</td>\n",
       "      <td>7.143121</td>\n",
       "    </tr>\n",
       "    <tr>\n",
       "      <th>10</th>\n",
       "      <td>tax</td>\n",
       "      <td>8.768640</td>\n",
       "    </tr>\n",
       "    <tr>\n",
       "      <th>11</th>\n",
       "      <td>ptratio</td>\n",
       "      <td>1.671811</td>\n",
       "    </tr>\n",
       "    <tr>\n",
       "      <th>12</th>\n",
       "      <td>black</td>\n",
       "      <td>1.672290</td>\n",
       "    </tr>\n",
       "    <tr>\n",
       "      <th>13</th>\n",
       "      <td>lstat</td>\n",
       "      <td>3.033459</td>\n",
       "    </tr>\n",
       "  </tbody>\n",
       "</table>\n",
       "</div>"
      ],
      "text/plain": [
       "    feature  vif_score\n",
       "1      crim   2.311119\n",
       "2        zn   2.292413\n",
       "3     indus   4.187875\n",
       "4      chas   1.057250\n",
       "5       nox   4.450553\n",
       "6        rm   1.932500\n",
       "7       age   2.858506\n",
       "8       dis   4.042662\n",
       "9       rad   7.143121\n",
       "10      tax   8.768640\n",
       "11  ptratio   1.671811\n",
       "12    black   1.672290\n",
       "13    lstat   3.033459"
      ]
     },
     "execution_count": 95,
     "metadata": {},
     "output_type": "execute_result"
    }
   ],
   "source": [
    "# calculate VIF scores\n",
    "from statsmodels.stats.outliers_influence import variance_inflation_factor as vif \n",
    "from statsmodels.tools.tools import add_constant\n",
    "\n",
    "X = add_constant(feature_admit_train)\n",
    "\n",
    "vif_df = pd.DataFrame([vif(X.values, i) \n",
    "               for i in range(X.shape[1])], \n",
    "              index=X.columns).reset_index()\n",
    "vif_df.columns = ['feature','vif_score']\n",
    "vif_df = vif_df.loc[vif_df.feature!='const']\n",
    "vif_df"
   ]
  },
  {
   "cell_type": "raw",
   "id": "a5aec935-a75d-400d-8106-67bf3c26dfdb",
   "metadata": {},
   "source": [
    "There are several features with high VIF scores:\n",
    "1. indus\n",
    "2. nox\n",
    "3. dis\n",
    "4. rad\n",
    "5. tax\n"
   ]
  },
  {
   "cell_type": "code",
   "execution_count": 8,
   "id": "d442923c-c995-4d9f-9369-87b6f66b9322",
   "metadata": {},
   "outputs": [
    {
     "data": {
      "image/png": "[encoded data removed]",
      "text/plain": [
       "<Figure size 720x504 with 2 Axes>"
      ]
     },
     "metadata": {},
     "output_type": "display_data"
    }
   ],
   "source": [
    "# heatmap correlation\n",
    "data_train = pd.concat([feature_data_train, target_data_train], axis=1)\n",
    "corr = data_train.corr()\n",
    "\n",
    "plt.figure(figsize=(10,7))\n",
    "sns.heatmap(corr, annot=True, fmt='.2f')\n",
    "plt.show()"
   ]
  },
  {
   "cell_type": "raw",
   "id": "024fcdb6-ce6b-4f9e-bd05-c782b005f6df",
   "metadata": {},
   "source": [
    "tax and rad have corelation 0.90 --> multicorelation\n",
    "\n",
    "based on this data, lstat will be consedered as feature\n",
    "the variabel below will be deleted:\n",
    "tax\n",
    "rad"
   ]
  },
  {
   "cell_type": "code",
   "execution_count": 9,
   "id": "d93865ce-0a55-4a7f-b8e6-a40b7db9451c",
   "metadata": {},
   "outputs": [],
   "source": [
    "feature_data_train = feature_data_train.drop(columns=['tax','rad'])\n",
    "feature_data_validation = feature_data_validation.drop(columns=['tax','rad'])\n",
    "feature_data_test = feature_data_test.drop(columns=['tax','rad'])\n"
   ]
  },
  {
   "cell_type": "code",
   "execution_count": 10,
   "id": "6623e3fd-c003-4da9-ba8d-1f06390252ee",
   "metadata": {},
   "outputs": [
    {
     "name": "stderr",
     "output_type": "stream",
     "text": [
      "C:\\Users\\user\\anaconda3\\lib\\site-packages\\statsmodels\\tsa\\tsatools.py:142: FutureWarning: In a future version of pandas all arguments of concat except for the argument 'objs' will be keyword-only\n",
      "  x = pd.concat(x[::order], 1)\n"
     ]
    },
    {
     "data": {
      "text/html": [
       "<div>\n",
       "<style scoped>\n",
       "    .dataframe tbody tr th:only-of-type {\n",
       "        vertical-align: middle;\n",
       "    }\n",
       "\n",
       "    .dataframe tbody tr th {\n",
       "        vertical-align: top;\n",
       "    }\n",
       "\n",
       "    .dataframe thead th {\n",
       "        text-align: right;\n",
       "    }\n",
       "</style>\n",
       "<table border=\"1\" class=\"dataframe\">\n",
       "  <thead>\n",
       "    <tr style=\"text-align: right;\">\n",
       "      <th></th>\n",
       "      <th>feature</th>\n",
       "      <th>vif_score</th>\n",
       "    </tr>\n",
       "  </thead>\n",
       "  <tbody>\n",
       "    <tr>\n",
       "      <th>1</th>\n",
       "      <td>crim</td>\n",
       "      <td>1.859018</td>\n",
       "    </tr>\n",
       "    <tr>\n",
       "      <th>2</th>\n",
       "      <td>zn</td>\n",
       "      <td>2.131836</td>\n",
       "    </tr>\n",
       "    <tr>\n",
       "      <th>3</th>\n",
       "      <td>indus</td>\n",
       "      <td>3.470427</td>\n",
       "    </tr>\n",
       "    <tr>\n",
       "      <th>4</th>\n",
       "      <td>chas</td>\n",
       "      <td>1.037576</td>\n",
       "    </tr>\n",
       "    <tr>\n",
       "      <th>5</th>\n",
       "      <td>nox</td>\n",
       "      <td>4.028681</td>\n",
       "    </tr>\n",
       "    <tr>\n",
       "      <th>6</th>\n",
       "      <td>rm</td>\n",
       "      <td>1.854426</td>\n",
       "    </tr>\n",
       "    <tr>\n",
       "      <th>7</th>\n",
       "      <td>age</td>\n",
       "      <td>2.792132</td>\n",
       "    </tr>\n",
       "    <tr>\n",
       "      <th>8</th>\n",
       "      <td>dis</td>\n",
       "      <td>4.029992</td>\n",
       "    </tr>\n",
       "    <tr>\n",
       "      <th>9</th>\n",
       "      <td>ptratio</td>\n",
       "      <td>1.466573</td>\n",
       "    </tr>\n",
       "    <tr>\n",
       "      <th>10</th>\n",
       "      <td>black</td>\n",
       "      <td>1.666039</td>\n",
       "    </tr>\n",
       "    <tr>\n",
       "      <th>11</th>\n",
       "      <td>lstat</td>\n",
       "      <td>2.973813</td>\n",
       "    </tr>\n",
       "  </tbody>\n",
       "</table>\n",
       "</div>"
      ],
      "text/plain": [
       "    feature  vif_score\n",
       "1      crim   1.859018\n",
       "2        zn   2.131836\n",
       "3     indus   3.470427\n",
       "4      chas   1.037576\n",
       "5       nox   4.028681\n",
       "6        rm   1.854426\n",
       "7       age   2.792132\n",
       "8       dis   4.029992\n",
       "9   ptratio   1.466573\n",
       "10    black   1.666039\n",
       "11    lstat   2.973813"
      ]
     },
     "execution_count": 10,
     "metadata": {},
     "output_type": "execute_result"
    }
   ],
   "source": [
    "#Cek VIP\n",
    "\n",
    "from statsmodels.stats.outliers_influence import variance_inflation_factor as vif \n",
    "from statsmodels.tools.tools import add_constant\n",
    "\n",
    "X = add_constant(feature_data_train)\n",
    "\n",
    "vif_df = pd.DataFrame([vif(X.values, i) \n",
    "               for i in range(X.shape[1])], \n",
    "              index=X.columns).reset_index()\n",
    "vif_df.columns = ['feature','vif_score']\n",
    "vif_df = vif_df.loc[vif_df.feature!='const']\n",
    "vif_df"
   ]
  },
  {
   "cell_type": "code",
   "execution_count": 11,
   "id": "98c66ebd-cb20-47cd-88f6-aba3dc05b2b1",
   "metadata": {},
   "outputs": [
    {
     "data": {
      "text/plain": [
       "Ridge(alpha=10, random_state=42)"
      ]
     },
     "execution_count": 11,
     "metadata": {},
     "output_type": "execute_result"
    }
   ],
   "source": [
    "#Train multipel lamda for RIDGE\n",
    "from sklearn.linear_model import Ridge\n",
    "\n",
    "# train the model\n",
    "X_data_train = feature_data_train.to_numpy()\n",
    "y_data_train = target_data_train.to_numpy()\n",
    "y_data_train = y_data_train.reshape(len(y_data_train),)\n",
    "\n",
    "# define the model\n",
    "ridge_reg_pointzeroone = Ridge(alpha=0.01, random_state=42)\n",
    "ridge_reg_pointone = Ridge(alpha=0.1, random_state=42)\n",
    "ridge_reg_one = Ridge(alpha=1, random_state=42)\n",
    "ridge_reg_ten = Ridge(alpha=10, random_state=42)\n",
    "\n",
    "# fit the model (training)\n",
    "ridge_reg_pointzeroone.fit(X_data_train, y_data_train)\n",
    "ridge_reg_pointone.fit(X_data_train, y_data_train)\n",
    "ridge_reg_one.fit(X_data_train, y_data_train)\n",
    "ridge_reg_ten.fit(X_data_train, y_data_train)"
   ]
  },
  {
   "cell_type": "code",
   "execution_count": 12,
   "id": "f78df5ba-ad2c-4ca5-b232-6d5d0603930e",
   "metadata": {},
   "outputs": [
    {
     "name": "stdout",
     "output_type": "stream",
     "text": [
      "RMSE of Ridge regression model with alpha = 0.01 is 2.929085125842714\n",
      "RMSE of Ridge regression model with alpha = 0.1 is 2.9167446483672883\n",
      "RMSE of Ridge regression model with alpha = 1.0 is 2.8952522346748535\n",
      "RMSE of Ridge regression model with alpha = 10 is 2.946959169064696\n"
     ]
    }
   ],
   "source": [
    "#find the best model RIDGE\n",
    "from sklearn.metrics import mean_squared_error\n",
    "\n",
    "X_data_validation = feature_data_validation.to_numpy()\n",
    "y_data_validation = target_data_validation.to_numpy()\n",
    "y_data_validation = y_data_validation.reshape(len(y_data_validation),)\n",
    "\n",
    "alphas = [0.01, 0.1, 1., 10]\n",
    "models = [ridge_reg_pointzeroone,\n",
    "          ridge_reg_pointone,\n",
    "          ridge_reg_one,\n",
    "          ridge_reg_ten]\n",
    "\n",
    "for model, alpha in zip(models, alphas):\n",
    "    y_predict_validation = model.predict(X_data_validation)\n",
    "    rmse = np.sqrt(mean_squared_error(y_data_validation,y_predict_validation))\n",
    "    print(f'RMSE of Ridge regression model with alpha = {alpha} is {rmse}')"
   ]
  },
  {
   "cell_type": "raw",
   "id": "8c69e71d-de3b-4bbc-b2af-4e3cc901a5ce",
   "metadata": {},
   "source": [
    "Pada Ridge,model yang menggunakan lamda 1.0 adalah yang paling bagus"
   ]
  },
  {
   "cell_type": "code",
   "execution_count": 22,
   "id": "082e4c0a-7d07-47a9-b551-9b137c1d02bf",
   "metadata": {},
   "outputs": [
    {
     "data": {
      "text/html": [
       "<div>\n",
       "<style scoped>\n",
       "    .dataframe tbody tr th:only-of-type {\n",
       "        vertical-align: middle;\n",
       "    }\n",
       "\n",
       "    .dataframe tbody tr th {\n",
       "        vertical-align: top;\n",
       "    }\n",
       "\n",
       "    .dataframe thead th {\n",
       "        text-align: right;\n",
       "    }\n",
       "</style>\n",
       "<table border=\"1\" class=\"dataframe\">\n",
       "  <thead>\n",
       "    <tr style=\"text-align: right;\">\n",
       "      <th></th>\n",
       "      <th>feature</th>\n",
       "      <th>coefficient</th>\n",
       "    </tr>\n",
       "  </thead>\n",
       "  <tbody>\n",
       "    <tr>\n",
       "      <th>0</th>\n",
       "      <td>Intercept</td>\n",
       "      <td>21.575671</td>\n",
       "    </tr>\n",
       "    <tr>\n",
       "      <th>1</th>\n",
       "      <td>crim</td>\n",
       "      <td>-0.000000</td>\n",
       "    </tr>\n",
       "    <tr>\n",
       "      <th>2</th>\n",
       "      <td>zn</td>\n",
       "      <td>0.035454</td>\n",
       "    </tr>\n",
       "    <tr>\n",
       "      <th>3</th>\n",
       "      <td>indus</td>\n",
       "      <td>-0.000000</td>\n",
       "    </tr>\n",
       "    <tr>\n",
       "      <th>4</th>\n",
       "      <td>chas</td>\n",
       "      <td>0.000000</td>\n",
       "    </tr>\n",
       "    <tr>\n",
       "      <th>5</th>\n",
       "      <td>nox</td>\n",
       "      <td>-0.000000</td>\n",
       "    </tr>\n",
       "    <tr>\n",
       "      <th>6</th>\n",
       "      <td>rm</td>\n",
       "      <td>0.000000</td>\n",
       "    </tr>\n",
       "    <tr>\n",
       "      <th>7</th>\n",
       "      <td>age</td>\n",
       "      <td>-0.037459</td>\n",
       "    </tr>\n",
       "    <tr>\n",
       "      <th>8</th>\n",
       "      <td>dis</td>\n",
       "      <td>0.000000</td>\n",
       "    </tr>\n",
       "    <tr>\n",
       "      <th>9</th>\n",
       "      <td>ptratio</td>\n",
       "      <td>-0.000000</td>\n",
       "    </tr>\n",
       "    <tr>\n",
       "      <th>10</th>\n",
       "      <td>black</td>\n",
       "      <td>0.015320</td>\n",
       "    </tr>\n",
       "    <tr>\n",
       "      <th>11</th>\n",
       "      <td>lstat</td>\n",
       "      <td>-0.291075</td>\n",
       "    </tr>\n",
       "  </tbody>\n",
       "</table>\n",
       "</div>"
      ],
      "text/plain": [
       "      feature  coefficient\n",
       "0   Intercept    21.575671\n",
       "1        crim    -0.000000\n",
       "2          zn     0.035454\n",
       "3       indus    -0.000000\n",
       "4        chas     0.000000\n",
       "5         nox    -0.000000\n",
       "6          rm     0.000000\n",
       "7         age    -0.037459\n",
       "8         dis     0.000000\n",
       "9     ptratio    -0.000000\n",
       "10      black     0.015320\n",
       "11      lstat    -0.291075"
      ]
     },
     "execution_count": 22,
     "metadata": {},
     "output_type": "execute_result"
    }
   ],
   "source": [
    "#Coefficients RIDGE\n",
    "ridge_best = ridge_reg_pointone\n",
    "\n",
    "coef_df = pd.DataFrame({\n",
    "    'feature':['Intercept'] + feature_data_train.columns.tolist(),\n",
    "    'coefficient':[model.intercept_] + list(model.coef_)\n",
    "})\n",
    "\n",
    "coef_df"
   ]
  },
  {
   "cell_type": "raw",
   "id": "6c63938c-4afd-4382-8a59-0942f0fbc492",
   "metadata": {},
   "source": [
    "Interpretasi:\n",
    "Setiap penambahan 1 nilai lstat dan menganggap nilai fitur lainya adalah tetap,maka akan mengurangi nilai medv sebesar 0.291"
   ]
  },
  {
   "cell_type": "code",
   "execution_count": 23,
   "id": "aa115ba5-619b-4112-a5ba-1e02f1d05d01",
   "metadata": {},
   "outputs": [
    {
     "data": {
      "text/plain": [
       "Lasso(alpha=10, random_state=42)"
      ]
     },
     "execution_count": 23,
     "metadata": {},
     "output_type": "execute_result"
    }
   ],
   "source": [
    "#Train multipel lamda for lasso\n",
    "from sklearn.linear_model import Lasso\n",
    "\n",
    "# train the model\n",
    "X_data_train = feature_data_train.to_numpy()\n",
    "y_data_train = target_data_train.to_numpy()\n",
    "y_data_train = y_data_train.reshape(len(y_data_train),)\n",
    "\n",
    "# define the model\n",
    "lasso_reg_pointzeroone = Lasso(alpha=0.01, random_state=42)\n",
    "lasso_reg_pointone = Lasso(alpha=0.1, random_state=42)\n",
    "lasso_reg_one = Lasso(alpha=1, random_state=42)\n",
    "lasso_reg_ten = Lasso(alpha=10, random_state=42)\n",
    "\n",
    "# fit the model (training)\n",
    "lasso_reg_pointzeroone.fit(X_data_train, y_data_train)\n",
    "lasso_reg_pointone.fit(X_data_train, y_data_train)\n",
    "lasso_reg_one.fit(X_data_train, y_data_train)\n",
    "lasso_reg_ten.fit(X_data_train, y_data_train)"
   ]
  },
  {
   "cell_type": "code",
   "execution_count": 24,
   "id": "7b77364f-9dd3-4da1-b2a8-ba607deaad2f",
   "metadata": {},
   "outputs": [
    {
     "name": "stdout",
     "output_type": "stream",
     "text": [
      "RMSE of Lasso regression model with alpha = 0.01 is 2.9055429129534307\n",
      "RMSE of Lasso regression model with alpha = 0.1 is 2.9969413445850352\n",
      "RMSE of Lasso regression model with alpha = 1.0 is 3.414997214263781\n",
      "RMSE of Lasso regression model with alpha = 10 is 4.225752793271933\n"
     ]
    }
   ],
   "source": [
    "from sklearn.metrics import mean_squared_error\n",
    "\n",
    "X_data_validation = feature_data_validation.to_numpy()\n",
    "y_data_validation = target_data_validation.to_numpy()\n",
    "y_data_validation = y_data_validation.reshape(len(y_data_validation),)\n",
    "\n",
    "alphas = [0.01, 0.1, 1., 10]\n",
    "models = [lasso_reg_pointzeroone,\n",
    "          lasso_reg_pointone,\n",
    "          lasso_reg_one,\n",
    "          lasso_reg_ten]\n",
    "\n",
    "for model, alpha in zip(models, alphas):\n",
    "    y_predict_validation = model.predict(X_data_validation)\n",
    "    rmse = np.sqrt(mean_squared_error(y_data_validation,y_predict_validation))\n",
    "    print(f'RMSE of Lasso regression model with alpha = {alpha} is {rmse}')"
   ]
  },
  {
   "cell_type": "raw",
   "id": "b174295e-dbec-413f-843c-cbc4b26ec571",
   "metadata": {},
   "source": [
    "Pada lasso, lamda dan model yang terbaik adalah pada lamda 0.01"
   ]
  },
  {
   "cell_type": "code",
   "execution_count": 25,
   "id": "0a671626-84aa-4400-be0d-f629c1d64d0d",
   "metadata": {},
   "outputs": [
    {
     "data": {
      "text/html": [
       "<div>\n",
       "<style scoped>\n",
       "    .dataframe tbody tr th:only-of-type {\n",
       "        vertical-align: middle;\n",
       "    }\n",
       "\n",
       "    .dataframe tbody tr th {\n",
       "        vertical-align: top;\n",
       "    }\n",
       "\n",
       "    .dataframe thead th {\n",
       "        text-align: right;\n",
       "    }\n",
       "</style>\n",
       "<table border=\"1\" class=\"dataframe\">\n",
       "  <thead>\n",
       "    <tr style=\"text-align: right;\">\n",
       "      <th></th>\n",
       "      <th>feature</th>\n",
       "      <th>coefficient</th>\n",
       "    </tr>\n",
       "  </thead>\n",
       "  <tbody>\n",
       "    <tr>\n",
       "      <th>0</th>\n",
       "      <td>Intercept</td>\n",
       "      <td>21.575671</td>\n",
       "    </tr>\n",
       "    <tr>\n",
       "      <th>1</th>\n",
       "      <td>crim</td>\n",
       "      <td>-0.000000</td>\n",
       "    </tr>\n",
       "    <tr>\n",
       "      <th>2</th>\n",
       "      <td>zn</td>\n",
       "      <td>0.035454</td>\n",
       "    </tr>\n",
       "    <tr>\n",
       "      <th>3</th>\n",
       "      <td>indus</td>\n",
       "      <td>-0.000000</td>\n",
       "    </tr>\n",
       "    <tr>\n",
       "      <th>4</th>\n",
       "      <td>chas</td>\n",
       "      <td>0.000000</td>\n",
       "    </tr>\n",
       "    <tr>\n",
       "      <th>5</th>\n",
       "      <td>nox</td>\n",
       "      <td>-0.000000</td>\n",
       "    </tr>\n",
       "    <tr>\n",
       "      <th>6</th>\n",
       "      <td>rm</td>\n",
       "      <td>0.000000</td>\n",
       "    </tr>\n",
       "    <tr>\n",
       "      <th>7</th>\n",
       "      <td>age</td>\n",
       "      <td>-0.037459</td>\n",
       "    </tr>\n",
       "    <tr>\n",
       "      <th>8</th>\n",
       "      <td>dis</td>\n",
       "      <td>0.000000</td>\n",
       "    </tr>\n",
       "    <tr>\n",
       "      <th>9</th>\n",
       "      <td>ptratio</td>\n",
       "      <td>-0.000000</td>\n",
       "    </tr>\n",
       "    <tr>\n",
       "      <th>10</th>\n",
       "      <td>black</td>\n",
       "      <td>0.015320</td>\n",
       "    </tr>\n",
       "    <tr>\n",
       "      <th>11</th>\n",
       "      <td>lstat</td>\n",
       "      <td>-0.291075</td>\n",
       "    </tr>\n",
       "  </tbody>\n",
       "</table>\n",
       "</div>"
      ],
      "text/plain": [
       "      feature  coefficient\n",
       "0   Intercept    21.575671\n",
       "1        crim    -0.000000\n",
       "2          zn     0.035454\n",
       "3       indus    -0.000000\n",
       "4        chas     0.000000\n",
       "5         nox    -0.000000\n",
       "6          rm     0.000000\n",
       "7         age    -0.037459\n",
       "8         dis     0.000000\n",
       "9     ptratio    -0.000000\n",
       "10      black     0.015320\n",
       "11      lstat    -0.291075"
      ]
     },
     "execution_count": 25,
     "metadata": {},
     "output_type": "execute_result"
    }
   ],
   "source": [
    "#Coefficient LASSO\n",
    "lasso_best = lasso_reg_pointzeroone\n",
    "\n",
    "coef_df = pd.DataFrame({\n",
    "    'feature':['Intercept'] + feature_data_train.columns.tolist(),\n",
    "    'coefficient':[model.intercept_] + list(model.coef_)\n",
    "})\n",
    "\n",
    "coef_df"
   ]
  },
  {
   "cell_type": "raw",
   "id": "34c3bb8e-f91b-4fa4-af45-74a8b4f60d8f",
   "metadata": {},
   "source": [
    "Interpretasi:\n",
    "Setiap penambahan 1 nilai lstat dan menganggap nilai fitur lainya adalah tetap,maka akan mengurangi nilai medv sebesar 0.291.\n",
    "\n",
    "Pada lasso, feature crim, indus, chas, nox, rm, dis, dan ptratio dianggap tidak perlu dalam permodelan."
   ]
  },
  {
   "cell_type": "code",
   "execution_count": 26,
   "id": "7c128ed8-fd68-497a-a025-081970ee7009",
   "metadata": {},
   "outputs": [],
   "source": [
    "#Evaluate RIDGE\n",
    "# prepare prediction result on train data\n",
    "y_predict_train = ridge_best.predict(X_data_train)"
   ]
  },
  {
   "cell_type": "code",
   "execution_count": 27,
   "id": "8b31a106-dcbe-4ef9-a1ab-95e5f1c74eef",
   "metadata": {},
   "outputs": [
    {
     "name": "stdout",
     "output_type": "stream",
     "text": [
      "RMSE for training data is 3.328876590524891\n",
      "MAE for training data is 2.5421739936743117\n",
      "MAPE for training data is 0.14201797882058012\n"
     ]
    }
   ],
   "source": [
    "from sklearn.metrics import mean_squared_error\n",
    "from sklearn.metrics import mean_absolute_error\n",
    "from sklearn.metrics import mean_absolute_percentage_error\n",
    "\n",
    "print('RMSE for training data is {}'.format(np.sqrt(mean_squared_error(y_predict_train, y_data_train))))\n",
    "print('MAE for training data is {}'.format(mean_absolute_error(y_predict_train, y_data_train)))\n",
    "print('MAPE for training data is {}'.format(mean_absolute_percentage_error(y_predict_train, y_data_train)))"
   ]
  },
  {
   "cell_type": "raw",
   "id": "502a52ac-8ec1-431a-8abb-fdf3ba844fce",
   "metadata": {},
   "source": [
    "Interpretasi Evaluasi pada data training:\n",
    "RMSE 3.32 --> Simpangan baku dari residura dari permodelan yang terbentuk pada training data adalah 3.32\n",
    "\n",
    "MAE 2.54 --> Secara rata-rata prediksi model menyimpang dari data yang sebenarnya sebesar 2.54 poin\n",
    "\n",
    "MAPE 0.141=14,1% --> 2.54 deviasi dari MAE equivalent dengan 14,1% deviasi relatif dari prediksi terhadap data sebenarnya"
   ]
  },
  {
   "cell_type": "code",
   "execution_count": 28,
   "id": "8387b15c-04f4-4675-81a7-b8b3c8a41ec3",
   "metadata": {},
   "outputs": [],
   "source": [
    "# prepare prediction result on test data\n",
    "X_data_test = feature_data_test.to_numpy()\n",
    "y_predict_test = ridge_best.predict(X_data_test)\n",
    "\n",
    "# ground truth target\n",
    "y_data_test = target_data_test.to_numpy()\n",
    "y_data_test = y_data_test.reshape(len(y_data_test),)"
   ]
  },
  {
   "cell_type": "code",
   "execution_count": 29,
   "id": "344c3f8a-f617-43f8-a97a-a5ab937da5e8",
   "metadata": {},
   "outputs": [
    {
     "name": "stdout",
     "output_type": "stream",
     "text": [
      "RMSE for testing data is 3.3623905584520983\n",
      "MAE for testing data is 2.3913801019057024\n",
      "MAPE for testing data is 0.12488539669189094\n"
     ]
    }
   ],
   "source": [
    "from sklearn.metrics import mean_squared_error\n",
    "from sklearn.metrics import mean_absolute_error\n",
    "from sklearn.metrics import mean_absolute_percentage_error\n",
    "\n",
    "print('RMSE for testing data is {}'.format(np.sqrt(mean_squared_error(y_predict_test, y_data_test))))\n",
    "print('MAE for testing data is {}'.format(mean_absolute_error(y_predict_test, y_data_test)))\n",
    "print('MAPE for testing data is {}'.format(mean_absolute_percentage_error(y_predict_test, y_data_test)))"
   ]
  },
  {
   "cell_type": "raw",
   "id": "69167c04-25fa-40d4-beca-5bc53c762afe",
   "metadata": {},
   "source": [
    "Interpretasi Evaluasi pada data testing:\n",
    "RMSE 3.36 --> Simpangan baku dari residura dari permodelan yang terbentuk pada training data adalah 3.36\n",
    "\n",
    "MAE 2.39 --> Secara rata-rata prediksi model menyimpang dari data yang sebenarnya sebesar 2.39 poin\n",
    "\n",
    "MAPE 0.125=12,5% --> 2.39 deviasi dari MAE equivalent dengan 12,5% deviasi relatif dari prediksi terhadap data sebenarnya"
   ]
  },
  {
   "cell_type": "raw",
   "id": "0ae8a651-889b-4d08-8430-8f305dfd36d7",
   "metadata": {},
   "source": [
    "Berdasarkan hasil evaluasi menggunakan model RIDGE pada data training dan data testing diketahui bahwa:\n",
    "- performa dianggap cukup baik, sehingga permodelan dapat diterima --> nilai MAPE hanya 17% pada data training, dan lebih rendah lagi pada data testing yaitu 12,6%\n",
    "    "
   ]
  },
  {
   "cell_type": "code",
   "execution_count": 30,
   "id": "9586560c-3157-4962-a135-3f02c7b69777",
   "metadata": {},
   "outputs": [],
   "source": [
    "#Evaluate LASSO\n",
    "# prepare prediction result on train data\n",
    "y_predict_train = lasso_best.predict(X_data_train)"
   ]
  },
  {
   "cell_type": "code",
   "execution_count": 31,
   "id": "d5e73292-57e5-4780-bdd2-1f5e6e2c48fc",
   "metadata": {},
   "outputs": [
    {
     "name": "stdout",
     "output_type": "stream",
     "text": [
      "RMSE for training data is 3.333309909828795\n",
      "MAE for training data is 2.5518048304084227\n",
      "MAPE for training data is 0.14275208466997416\n"
     ]
    }
   ],
   "source": [
    "from sklearn.metrics import mean_squared_error\n",
    "from sklearn.metrics import mean_absolute_error\n",
    "from sklearn.metrics import mean_absolute_percentage_error\n",
    "\n",
    "print('RMSE for training data is {}'.format(np.sqrt(mean_squared_error(y_predict_train, y_data_train))))\n",
    "print('MAE for training data is {}'.format(mean_absolute_error(y_predict_train, y_data_train)))\n",
    "print('MAPE for training data is {}'.format(mean_absolute_percentage_error(y_predict_train, y_data_train)))"
   ]
  },
  {
   "cell_type": "raw",
   "id": "2716c8ed-f320-4949-b4f7-20d49b7b24ff",
   "metadata": {},
   "source": [
    "Interpretasi Evaluasi pada data training:\n",
    "RMSE 3.33 --> Simpangan baku dari residura dari permodelan yang terbentuk pada training data adalah 3.33\n",
    "\n",
    "MAE 2.55 --> Secara rata-rata prediksi model menyimpang dari data yang sebenarnya sebesar 2.55 poin\n",
    "\n",
    "MAPE 0.143=14,3% --> 2.55 deviasi dari MAE equivalent dengan 14,3% deviasi relatif dari prediksi terhadap data sebenarnya"
   ]
  },
  {
   "cell_type": "code",
   "execution_count": 32,
   "id": "daf449ca-2ed1-45e5-8478-dc0e02f7f317",
   "metadata": {},
   "outputs": [],
   "source": [
    "# prepare prediction result on test data\n",
    "X_data_test = feature_data_test.to_numpy()\n",
    "y_predict_test = lasso_best.predict(X_data_test)\n",
    "\n",
    "# ground truth target\n",
    "y_data_test = target_data_test.to_numpy()\n",
    "y_data_test = y_data_test.reshape(len(y_data_test),)"
   ]
  },
  {
   "cell_type": "code",
   "execution_count": 33,
   "id": "893d7a34-6856-4b3a-80ec-f296ebe9467c",
   "metadata": {},
   "outputs": [
    {
     "name": "stdout",
     "output_type": "stream",
     "text": [
      "RMSE for testing data is 3.3454819497564805\n",
      "MAE for testing data is 2.378100888903815\n",
      "MAPE for testing data is 0.12385239184868403\n"
     ]
    }
   ],
   "source": [
    "from sklearn.metrics import mean_squared_error\n",
    "from sklearn.metrics import mean_absolute_error\n",
    "from sklearn.metrics import mean_absolute_percentage_error\n",
    "\n",
    "print('RMSE for testing data is {}'.format(np.sqrt(mean_squared_error(y_predict_test, y_data_test))))\n",
    "print('MAE for testing data is {}'.format(mean_absolute_error(y_predict_test, y_data_test)))\n",
    "print('MAPE for testing data is {}'.format(mean_absolute_percentage_error(y_predict_test, y_data_test)))"
   ]
  },
  {
   "cell_type": "raw",
   "id": "64100936-8f86-4cac-8245-19b4a765fec0",
   "metadata": {},
   "source": [
    "Interpretasi Evaluasi pada data testing:\n",
    "RMSE 3.34 --> Simpangan baku dari residura dari permodelan yang terbentuk pada training data adalah 3.34\n",
    "\n",
    "MAE 2.38 --> Secara rata-rata prediksi model menyimpang dari data yang sebenarnya sebesar 2.38 poin\n",
    "\n",
    "MAPE 0.124=12,4% --> 2.38 deviasi dari MAE equivalent dengan 12,4% deviasi relatif dari prediksi terhadap data sebenarnya"
   ]
  },
  {
   "cell_type": "raw",
   "id": "937456ad-556b-42bb-a9eb-3e3e947cfdaf",
   "metadata": {},
   "source": [
    "Berdasarkan hasil evaluasi menggunakan model LASSO pada data training dan data testing diketahui bahwa:\n",
    "- performa dianggap cukup baik, sehingga permodelan dapat diterima --> nilai MAPE hanya 16,7% pada data training, dan lebih rendah lagi pada data testing yaitu 12,8%\n",
    "    "
   ]
  }
 ],
 "metadata": {
  "kernelspec": {
   "display_name": "Python 3 (ipykernel)",
   "language": "python",
   "name": "python3"
  },
  "language_info": {
   "codemirror_mode": {
    "name": "ipython",
    "version": 3
   },
   "file_extension": ".py",
   "mimetype": "text/x-python",
   "name": "python",
   "nbconvert_exporter": "python",
   "pygments_lexer": "ipython3",
   "version": "3.9.7"
  }
 },
 "nbformat": 4,
 "nbformat_minor": 5
}
